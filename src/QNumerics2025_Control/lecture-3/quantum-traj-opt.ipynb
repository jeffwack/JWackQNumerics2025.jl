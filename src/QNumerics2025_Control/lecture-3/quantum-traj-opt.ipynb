{
 "cells": [
  {
   "cell_type": "code",
   "execution_count": null,
   "id": "0d2a9469",
   "metadata": {},
   "outputs": [],
   "source": [
    "import Pkg; Pkg.activate(@__DIR__); Pkg.instantiate()"
   ]
  },
  {
   "cell_type": "code",
   "execution_count": null,
   "id": "f7733187",
   "metadata": {},
   "outputs": [],
   "source": [
    "using Piccolo\n",
    "using LinearAlgebra\n",
    "using CairoMakie\n",
    "using QuantumToolbox\n",
    "using SparseArrays\n",
    "\n",
    "const ⊗ = kron"
   ]
  },
  {
   "cell_type": "markdown",
   "id": "0cb0bc52",
   "metadata": {},
   "source": [
    "# I. Rotations\n",
    "-----"
   ]
  },
  {
   "cell_type": "markdown",
   "id": "1cd5b6a7",
   "metadata": {},
   "source": [
    "## Goals\n",
    "- Geodesics\n",
    "- Controllability of LTI systems\n",
    "- Dynamical Lie algebras and reachability"
   ]
  },
  {
   "cell_type": "markdown",
   "id": "f19d82ea",
   "metadata": {},
   "source": [
    "_Comparing initialization and optimization when restricted to a feasible manifold, and how warm starts are enabled by direct control._\n",
    "\n",
    "![Initialization comparison between direct and indirect optimization.](../assets/fig2_feas-manifold.png)"
   ]
  },
  {
   "cell_type": "code",
   "execution_count": null,
   "id": "c3f2b9bb",
   "metadata": {},
   "outputs": [],
   "source": [
    "U_goal = PAULIS.X\n",
    "T = 50\n",
    "Δt = 0.2\n",
    "\n",
    "# U_goal = exp(-im * H_eff * T * Δt)\n",
    "H_eff = im * log(U_goal / T / Δt)"
   ]
  },
  {
   "cell_type": "code",
   "execution_count": null,
   "id": "6ad73fb7",
   "metadata": {},
   "outputs": [],
   "source": [
    "# Draw the geodesic."
   ]
  },
  {
   "cell_type": "markdown",
   "id": "e087fb06",
   "metadata": {},
   "source": [
    "**Exercise**\n",
    "- What happens if there is a drift operator? $H(t) = \\Delta \\omega Z + u(t) X$.\n",
    "- Bonus: What about for an _Embedded operator_?"
   ]
  },
  {
   "cell_type": "markdown",
   "id": "cdb60b48",
   "metadata": {},
   "source": [
    "## Controllability"
   ]
  },
  {
   "cell_type": "markdown",
   "id": "6fa2012b",
   "metadata": {},
   "source": [
    "- Quick check: What happens when we kick a system $x_{n+1} = A x_n + B u_n$?"
   ]
  },
  {
   "cell_type": "markdown",
   "id": "739b8cd6",
   "metadata": {},
   "source": [
    "\\begin{equation}\n",
    "\\mathcal{C} = \\begin{bmatrix}\n",
    "    B & A B & A^2 B & \\cdots & A^{n-1} B\n",
    "\\end{bmatrix}\n",
    "\\end{equation}\n",
    "\n",
    "- Quick check: Why did we stop at $n-1$?"
   ]
  },
  {
   "cell_type": "markdown",
   "id": "7e78317d",
   "metadata": {},
   "source": [
    "**Example**\n",
    "- Test on a linear system in 2D. Recall our $F = ma$ system."
   ]
  },
  {
   "cell_type": "code",
   "execution_count": null,
   "id": "d752aa67",
   "metadata": {},
   "outputs": [],
   "source": [
    "function continuous_to_discrete(A, B, h)\n",
    "    # Construct augmented matrix for matrix exponential\n",
    "    augmented_matrix = [\n",
    "        A B; \n",
    "        zeros(size(B, 2), size(A, 1)) zeros(size(B, 2), size(B, 2))\n",
    "    ]\n",
    "\n",
    "    # Compute matrix exponential\n",
    "    exp_matrix = exp(augmented_matrix * h)\n",
    "\n",
    "    # Extract discrete LTI system matrices\n",
    "    A_h = exp_matrix[1:size(A, 1), 1:size(A, 2)]\n",
    "    B_h = exp_matrix[1:size(A, 1), size(A, 2)+1:end]\n",
    "\n",
    "    return A_h, B_h\n",
    "end\n",
    "\n",
    "# Extract discrete LTI system matrices\n",
    "A_cts = [0.0 1.0; -1.0 -0.1]\n",
    "B_cts = [0.0; 1.0]\n",
    "h = 0.1  # Time step\n",
    "A, B = continuous_to_discrete(A_cts, B_cts, h)"
   ]
  },
  {
   "cell_type": "markdown",
   "id": "cd5285d8",
   "metadata": {},
   "source": [
    "- Let's create a 2D state.\n",
    "\\begin{equation}\n",
    "    z = \\begin{bmatrix} x \\\\ \\dot{x} \\\\ y \\\\ \\dot{y} \\end{bmatrix}\n",
    "\\end{equation}"
   ]
  },
  {
   "cell_type": "code",
   "execution_count": null,
   "id": "7b1685d0",
   "metadata": {},
   "outputs": [],
   "source": [
    "Axy = I(2) ⊗ A\n",
    "Bxy = [B zeros(2); zeros(2) B]\n",
    "\n",
    "C = hcat([Axy^n * Bxy for n in 0:size(Axy, 1)-1]...)"
   ]
  },
  {
   "cell_type": "code",
   "execution_count": null,
   "id": "fe041d9f",
   "metadata": {},
   "outputs": [],
   "source": [
    "rank(C)"
   ]
  },
  {
   "cell_type": "code",
   "execution_count": null,
   "id": "9e0bc462",
   "metadata": {},
   "outputs": [],
   "source": [
    "Axy = I(2) ⊗ A\n",
    "\n",
    "# Directly move the X particle only\n",
    "Bxy = [[1; 0] zeros(2); [0; 1] zeros(2)]\n",
    "\n",
    "C = hcat([Axy^n * Bxy for n in 0:size(Axy, 1)-1]...)"
   ]
  },
  {
   "cell_type": "code",
   "execution_count": null,
   "id": "a8e63de0",
   "metadata": {},
   "outputs": [],
   "source": [
    "rank(C)"
   ]
  },
  {
   "cell_type": "markdown",
   "id": "0b696599",
   "metadata": {},
   "source": [
    "What about quantum systems? They are nonlinear.\n",
    "\n",
    "- BCH\n",
    "\\begin{equation}\n",
    "    e^{X} e^{Y} = e^{X + Y + \\tfrac{1}{2} [X, Y] + \\tfrac{1}{12} ([X, [X, Y]] + [Y, [Y, X]])} \n",
    "\\end{equation}\n",
    "\n",
    "- Collect commutators, forming the **Dynamical Lie algebra**."
   ]
  },
  {
   "cell_type": "markdown",
   "id": "7e3aa92c",
   "metadata": {},
   "source": [
    "- Quick check: How can we test for linear dependence?"
   ]
  },
  {
   "cell_type": "code",
   "execution_count": null,
   "id": "b7f7b6da",
   "metadata": {},
   "outputs": [],
   "source": [
    "# Linearly dependent: QR decomposition has a zero on diagonal \n",
    "H_drives = [PAULIS.X, PAULIS.Y]\n",
    "# H_drives = [PAULIS.X, PAULIS.X]\n",
    "\n",
    "M = stack(vec.(H_drives))\n",
    "qr(M).R"
   ]
  },
  {
   "cell_type": "markdown",
   "id": "600b295a",
   "metadata": {},
   "source": [
    "- Quick check: What about systems with drift?"
   ]
  },
  {
   "cell_type": "markdown",
   "id": "2c04778e",
   "metadata": {},
   "source": [
    "# II. Demos\n",
    "-----"
   ]
  },
  {
   "cell_type": "markdown",
   "id": "64f27243",
   "metadata": {},
   "source": [
    "**Bloch sphere**"
   ]
  },
  {
   "cell_type": "code",
   "execution_count": null,
   "id": "8d17b147",
   "metadata": {},
   "outputs": [],
   "source": [
    "Δ = 0.2\n",
    "qubit = QuantumSystem(Δ * PAULIS.Z, [PAULIS.X, PAULIS.Y])\n",
    "ψ0 = ket_from_string(\"e+g\", [2])\n",
    "ψT = ket_from_bitstring(\"0\")\n",
    "T = 50\n",
    "Δt = 0.2\n",
    "prob = QuantumStateSmoothPulseProblem(qubit, ψ0, ψT, T, Δt)"
   ]
  },
  {
   "cell_type": "code",
   "execution_count": null,
   "id": "5e1b0973",
   "metadata": {},
   "outputs": [],
   "source": [
    "fig, = plot_bloch(prob.trajectory)\n",
    "fig"
   ]
  },
  {
   "cell_type": "code",
   "execution_count": null,
   "id": "d5a6ee6a",
   "metadata": {},
   "outputs": [],
   "source": [
    "plot(prob.trajectory, :a)"
   ]
  },
  {
   "cell_type": "code",
   "execution_count": null,
   "id": "595f378a",
   "metadata": {},
   "outputs": [],
   "source": [
    "solve!(prob, max_iter=100, options=IpoptOptions(eval_hessian=true))"
   ]
  },
  {
   "cell_type": "code",
   "execution_count": null,
   "id": "f3e18cf1",
   "metadata": {},
   "outputs": [],
   "source": [
    "fig, = plot_bloch(prob.trajectory)\n",
    "fig"
   ]
  },
  {
   "cell_type": "code",
   "execution_count": null,
   "id": "f674a78e",
   "metadata": {},
   "outputs": [],
   "source": [
    "plot(prob.trajectory, :a)"
   ]
  },
  {
   "cell_type": "markdown",
   "id": "71686ba3",
   "metadata": {},
   "source": [
    "**CZ gate**"
   ]
  },
  {
   "cell_type": "markdown",
   "id": "b9eb971a",
   "metadata": {},
   "source": [
    "\\begin{equation}\n",
    "    H(t) = \\sum_j \\tfrac{\\eta}{2} a_j^\\dagger a_j^\\dagger a_j a_j + \\Delta(t) (a_1^\\dagger a_1) + g(t) (a_1^\\dagger a_2 + a_1 a_2^\\dagger)\n",
    "\\end{equation} "
   ]
  },
  {
   "cell_type": "code",
   "execution_count": null,
   "id": "41f005e2",
   "metadata": {},
   "outputs": [],
   "source": [
    "n_levels = 2\n",
    "a = lift_operator(annihilate(n_levels), 1, 2)\n",
    "b = lift_operator(annihilate(n_levels), 2, 2)\n",
    "η = -0.3\n",
    "\n",
    "H_drift = η/2 * (a'a'*a*a + b'b'*b*b)\n",
    "H_drives = [a'a', (a'b + a*b')]\n",
    "transmons = QuantumSystem(H_drift, H_drives)\n",
    "\n",
    "U_goal = EmbeddedOperator(\n",
    "    GATES.CZ, \n",
    "    get_subspace_indices([1:2, 1:2], [n_levels, n_levels]), \n",
    "    [n_levels, n_levels]\n",
    ")"
   ]
  },
  {
   "cell_type": "code",
   "execution_count": null,
   "id": "32bb0e21",
   "metadata": {},
   "outputs": [],
   "source": [
    "commutator(A, B) = A * B - B * A"
   ]
  },
  {
   "cell_type": "code",
   "execution_count": null,
   "id": "4e72a97f",
   "metadata": {},
   "outputs": [],
   "source": [
    "A = H_drives[1]\n",
    "B = H_drives[2]\n",
    "commutator(A, B) |> sparse"
   ]
  },
  {
   "cell_type": "code",
   "execution_count": null,
   "id": "ef0368d3",
   "metadata": {},
   "outputs": [],
   "source": [
    "is_reachable(U_goal, transmons)"
   ]
  },
  {
   "cell_type": "markdown",
   "id": "14d226bb",
   "metadata": {},
   "source": [
    "**Continous-variable quantum computing**\n",
    "\n",
    "\\begin{equation}\n",
    "    H(t) = \\Omega(t) a^\\dagger + \\Omega(t) a + \\kappa(t) a^2 + \\kappa^*(t) (a^\\dagger)^2\n",
    "\\end{equation}"
   ]
  },
  {
   "cell_type": "code",
   "execution_count": null,
   "id": "fe85fb7d",
   "metadata": {},
   "outputs": [],
   "source": [
    "n_levels = 5\n",
    "\n",
    "a = annihilate(n_levels)\n",
    "X = a + a'\n",
    "Y = -im * (a - a')\n",
    "X2 = a^2 + (a')^2\n",
    "Y2 = -im * (a^2 - (a')^2)\n",
    "\n",
    "Ω = 1.0\n",
    "κ = 0.1\n",
    "\n",
    "sys = QuantumSystem([X, Y, X2, Y2])\n",
    "\n",
    "# Displacement and squeezing operators\n",
    "function displacement(α)\n",
    "    return exp(α * a' - conj(α) * a)\n",
    "end\n",
    "\n",
    "function squeezing(r)\n",
    "    return exp((r / 2) * (a^2 - (a')^2))\n",
    "end\n",
    "\n",
    "# Initial states\n",
    "ψ0 = I(n_levels)[:, 1] .+ 0.0im\n",
    "ψα = displacement(im * 1.5) * ψ0;\n",
    "ψs = squeezing(0.5) * displacement(0.5 + 0.5im) * ψ0;"
   ]
  },
  {
   "cell_type": "markdown",
   "id": "5bbf6dc7",
   "metadata": {},
   "source": [
    "## Coherent state"
   ]
  },
  {
   "cell_type": "code",
   "execution_count": null,
   "id": "6f1f86ea",
   "metadata": {},
   "outputs": [],
   "source": [
    "T = 50\n",
    "Δt = 0.4\n",
    "prob = QuantumStateSmoothPulseProblem(sys, ψ0, ψα, T, Δt, dda_bound=0.1)\n",
    "solve!(prob, max_iter=75, options=IpoptOptions(eval_hessian=true))"
   ]
  },
  {
   "cell_type": "code",
   "execution_count": null,
   "id": "4e3b1fa4",
   "metadata": {},
   "outputs": [],
   "source": [
    "rollout_fidelity(prob.trajectory, sys)"
   ]
  },
  {
   "cell_type": "code",
   "execution_count": null,
   "id": "0d87ab7e",
   "metadata": {},
   "outputs": [],
   "source": [
    "fig, = plot_wigner(prob.trajectory, 1)\n",
    "fig"
   ]
  },
  {
   "cell_type": "code",
   "execution_count": null,
   "id": "c010771a",
   "metadata": {},
   "outputs": [],
   "source": [
    "fig, = plot_wigner(prob.trajectory, prob.trajectory.T)\n",
    "fig"
   ]
  },
  {
   "cell_type": "code",
   "execution_count": null,
   "id": "bfc5ff26",
   "metadata": {},
   "outputs": [],
   "source": [
    "fig, = plot_wigner(QuantumObject(ψα))\n",
    "fig"
   ]
  },
  {
   "cell_type": "code",
   "execution_count": null,
   "id": "08aa8f19",
   "metadata": {},
   "outputs": [],
   "source": [
    "plot(\n",
    "    prob.trajectory, [:a],\n",
    "    transformations = [:ψ̃ => ψ̃ -> abs2.(iso_to_ket(ψ̃)),],\n",
    "    use_autolimits=true,\n",
    "    transformation_titles = [\"Population\"],\n",
    ")"
   ]
  },
  {
   "cell_type": "markdown",
   "id": "1237037e",
   "metadata": {},
   "source": [
    "### Minimum Time"
   ]
  },
  {
   "cell_type": "code",
   "execution_count": null,
   "id": "699a2af9",
   "metadata": {},
   "outputs": [],
   "source": [
    "min_prob = QuantumStateMinimumTimeProblem(prob, ψα)"
   ]
  },
  {
   "cell_type": "code",
   "execution_count": null,
   "id": "69816789",
   "metadata": {},
   "outputs": [],
   "source": [
    "solve!(min_prob, max_iter=100)"
   ]
  },
  {
   "cell_type": "code",
   "execution_count": null,
   "id": "95e4a5dd",
   "metadata": {},
   "outputs": [],
   "source": [
    "fig, = plot_wigner(min_prob.trajectory, min_prob.trajectory.T)\n",
    "fig"
   ]
  },
  {
   "cell_type": "code",
   "execution_count": null,
   "id": "55e13cd0",
   "metadata": {},
   "outputs": [],
   "source": [
    "plot(\n",
    "    min_prob.trajectory, [:a],\n",
    "    transformations = [:ψ̃ => ψ̃ -> abs2.(iso_to_ket(ψ̃)),],\n",
    "    use_autolimits=true,\n",
    "    transformation_titles = [\"Population\"],\n",
    ")"
   ]
  },
  {
   "cell_type": "markdown",
   "id": "0ede0179",
   "metadata": {},
   "source": [
    "## Squeezed states"
   ]
  },
  {
   "cell_type": "code",
   "execution_count": null,
   "id": "625b4f97",
   "metadata": {},
   "outputs": [],
   "source": []
  },
  {
   "cell_type": "code",
   "execution_count": null,
   "id": "7bddbf9e",
   "metadata": {},
   "outputs": [],
   "source": []
  },
  {
   "cell_type": "code",
   "execution_count": null,
   "id": "ec7f3ace",
   "metadata": {},
   "outputs": [],
   "source": []
  }
 ],
 "metadata": {
  "kernelspec": {
   "display_name": "Julia 1.11.5",
   "language": "julia",
   "name": "julia-1.11"
  },
  "language_info": {
   "file_extension": ".jl",
   "mimetype": "application/julia",
   "name": "julia",
   "version": "1.11.5"
  }
 },
 "nbformat": 4,
 "nbformat_minor": 5
}
