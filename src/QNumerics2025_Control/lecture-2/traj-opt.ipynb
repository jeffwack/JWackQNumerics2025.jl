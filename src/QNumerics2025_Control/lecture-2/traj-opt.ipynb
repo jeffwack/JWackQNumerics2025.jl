{
 "cells": [
  {
   "cell_type": "code",
   "execution_count": null,
   "id": "807b02df",
   "metadata": {},
   "outputs": [],
   "source": [
    "using Optim\n",
    "using LinearAlgebra\n",
    "using SparseArrays\n",
    "using CairoMakie\n",
    "using Piccolo\n",
    "\n",
    "# let's define a shorthand for kron\n",
    "const ⊗ = kron"
   ]
  },
  {
   "cell_type": "markdown",
   "id": "61097614",
   "metadata": {},
   "source": [
    "# Getting started\n",
    "-----"
   ]
  },
  {
   "cell_type": "markdown",
   "id": "3b6e73ba",
   "metadata": {},
   "source": [
    "## Review\n",
    "- Gradient descent\n",
    "- Newton's method and KKT conditions\n",
    "- Regularization\n",
    "- Newton approximations\n",
    "- Line search"
   ]
  },
  {
   "cell_type": "markdown",
   "id": "404c3624",
   "metadata": {},
   "source": [
    "## Goals\n",
    "- Introduce trajectory optimization\n",
    "- Solve the LQR problem three ways\n",
    "- Describe nonlinear trajectory optimization"
   ]
  },
  {
   "cell_type": "markdown",
   "id": "dc68eb39",
   "metadata": {},
   "source": [
    "# I. Trajectory optimization\n",
    "-----"
   ]
  },
  {
   "cell_type": "markdown",
   "id": "02506b4f",
   "metadata": {},
   "source": [
    "- The solution is a definite _trajectory_, not a feedback policy.\n",
    "\n",
    "\\begin{align}\n",
    "\\min_{x_{1:N}, u_{1:N}} &\\quad J(x_{1:N}, u_{1:N}) = \\sum_{n=1}^N \\ell_n(x_n, u_n) + \\ell_N(x_N, u_N) \\\\\n",
    "\\text{s.t.} &\\quad x_{n+1} = f(x_n, u_n, n)\n",
    "\\end{align}"
   ]
  },
  {
   "cell_type": "markdown",
   "id": "ece35657",
   "metadata": {},
   "source": [
    "## Named Trajectories"
   ]
  },
  {
   "cell_type": "markdown",
   "id": "a62b6b46",
   "metadata": {},
   "source": [
    "**Terminology**\n",
    "\n",
    "- _Snapshot matrix_, $Z = \\begin{bmatrix} | & | & & | \\\\ z_1 & z_2 & & z_T \\\\ | & | & & | \\end{bmatrix}$\n",
    "- _Knot point_, $z_1 = \\begin{bmatrix} x_1 \\\\ u_1 \\end{bmatrix}$"
   ]
  },
  {
   "cell_type": "code",
   "execution_count": null,
   "id": "6d597322",
   "metadata": {},
   "outputs": [],
   "source": [
    "N = 10 # Number of knot points\n",
    "traj = rand(NamedTrajectory, N)"
   ]
  },
  {
   "cell_type": "code",
   "execution_count": null,
   "id": "d6ef59c7",
   "metadata": {},
   "outputs": [],
   "source": [
    "traj.x"
   ]
  },
  {
   "cell_type": "code",
   "execution_count": null,
   "id": "87c8965d",
   "metadata": {},
   "outputs": [],
   "source": [
    "traj.u"
   ]
  },
  {
   "cell_type": "code",
   "execution_count": null,
   "id": "31205631",
   "metadata": {},
   "outputs": [],
   "source": [
    "plot(traj, :x)"
   ]
  },
  {
   "cell_type": "markdown",
   "id": "44788a34",
   "metadata": {},
   "source": [
    "# II. Linear Quadratic Regulator\n",
    "-----"
   ]
  },
  {
   "cell_type": "markdown",
   "id": "d0edf55a",
   "metadata": {},
   "source": [
    "- LQR is the \"simple Harmonic oscillator\" of control\n",
    "\n",
    "\\begin{align}\n",
    "\\min_{x_{1:N}, u_{1:N{-}1}} &\\quad J = \\sum_{n=1}^{N-1} \\tfrac{1}{2} x_n^T Q_n x_n + \\tfrac{1}{2} u_n^T R_n u_n + \\tfrac{1}{2} x_N^T Q_N x_N \\\\\n",
    "\\text{s.t.} &\\quad x_{n+1} = A_n x_n + B_n u_n \\\\\n",
    "&\\quad Q_n \\succeq 0,\\, R_n \\succ 0\n",
    "\\end{align}"
   ]
  },
  {
   "cell_type": "markdown",
   "id": "6b81c318",
   "metadata": {},
   "source": [
    "- Quick check: Why does $R$ need to be positive definite?"
   ]
  },
  {
   "cell_type": "markdown",
   "id": "4523b2d0",
   "metadata": {},
   "source": [
    "## Linear systems"
   ]
  },
  {
   "cell_type": "markdown",
   "id": "a6b3b2e5",
   "metadata": {},
   "source": [
    "### Zero-order hold"
   ]
  },
  {
   "cell_type": "markdown",
   "id": "6be7b361",
   "metadata": {},
   "source": [
    "- Zero-order hold can be used to convert continuous, linear, time-invariant (LTI) systems to discrete LTI systems.\n",
    "\n",
    "\\begin{align}\n",
    "\\dot{x}(t) &= A x(t) + B u(t)  \\\\\n",
    "\\overset{h}{\\longrightarrow} x(t+h) &= A_h x(t) + B_h u(t) \\\\\n",
    "&= \\left( \\sum_{n\\ge0} \\tfrac{1}{n!} A^n h^n \\right) x + \\left( \\sum_{n\\ge1} \\tfrac{1}{n!} A^{n-1} B h^n \\right) u \\\\\n",
    "&\\approx (I + h A) x + h B u\n",
    "\\end{align}"
   ]
  },
  {
   "cell_type": "markdown",
   "id": "5f4dc32d",
   "metadata": {},
   "source": [
    "- Matrix exponential trick:\n",
    "\n",
    "\\begin{equation}\n",
    "\n",
    "\\exp\\left(\\begin{bmatrix} A & B \\\\ 0 & 0 \\end{bmatrix} h \\right)\n",
    "= \\begin{bmatrix} A_h & B_h \\\\ 0 & I \\end{bmatrix}\n",
    "\n",
    "\\end{equation}"
   ]
  },
  {
   "cell_type": "code",
   "execution_count": null,
   "id": "e89b90c9",
   "metadata": {},
   "outputs": [],
   "source": [
    "# Define continuous LTI system matrices\n",
    "A = [0.0 1.0; -1.0 -0.1]\n",
    "B = [0.0; 1.0]\n",
    "h = 0.1  # Time step\n",
    "\n",
    "function continuous_to_discrete(A, B, h)\n",
    "    # Construct augmented matrix for matrix exponential\n",
    "    augmented_matrix = [\n",
    "        A B; \n",
    "        zeros(size(B, 2), size(A, 1)) zeros(size(B, 2), size(B, 2))\n",
    "    ]\n",
    "\n",
    "    # Compute matrix exponential\n",
    "    exp_matrix = exp(augmented_matrix * h)\n",
    "\n",
    "    # Extract discrete LTI system matrices\n",
    "    A_h = exp_matrix[1:size(A, 1), 1:size(A, 2)]\n",
    "    B_h = exp_matrix[1:size(A, 1), size(A, 2)+1:end]\n",
    "\n",
    "    return A_h, B_h\n",
    "end\n",
    "\n",
    "# Extract discrete LTI system matrices\n",
    "A_h, B_h = continuous_to_discrete(A, B, h);"
   ]
  },
  {
   "cell_type": "code",
   "execution_count": null,
   "id": "d21e1860",
   "metadata": {},
   "outputs": [],
   "source": [
    "A_h"
   ]
  },
  {
   "cell_type": "code",
   "execution_count": null,
   "id": "fb33a39f",
   "metadata": {},
   "outputs": [],
   "source": [
    "I + A * h"
   ]
  },
  {
   "cell_type": "code",
   "execution_count": null,
   "id": "6d943c82",
   "metadata": {},
   "outputs": [],
   "source": [
    "B_h"
   ]
  },
  {
   "cell_type": "code",
   "execution_count": null,
   "id": "f8335c0b",
   "metadata": {},
   "outputs": [],
   "source": [
    "B * h"
   ]
  },
  {
   "cell_type": "markdown",
   "id": "c3cc9d76",
   "metadata": {},
   "source": [
    "### Double Integrator\n",
    "\n",
    "- Double integrator (Newton's second law, $F = ma$)\n",
    "\n",
    "\\begin{equation}\n",
    "\n",
    "m \\frac{d}{dt} \\begin{bmatrix} q \\\\ \\dot{q} \\end{bmatrix} \n",
    "= \\begin{bmatrix} 0 & m \\\\ 0 & 0 \\end{bmatrix} \\begin{bmatrix} q \\\\ \\dot{q} \\end{bmatrix}\n",
    "+ \\begin{bmatrix} 0 \\\\ u \\end{bmatrix}\n",
    "\n",
    "\\end{equation}"
   ]
  },
  {
   "cell_type": "code",
   "execution_count": null,
   "id": "a8ed30f4",
   "metadata": {},
   "outputs": [],
   "source": [
    "function double_integrator(m)\n",
    "    A_c = [0.0 1.0; 0.0 0.0]\n",
    "    B_c = [0.0; 1.0 / m]\n",
    "    return A_c, B_c\n",
    "end"
   ]
  },
  {
   "cell_type": "code",
   "execution_count": null,
   "id": "a7d2051a",
   "metadata": {},
   "outputs": [],
   "source": [
    "# simulate a discrete LTI system\n",
    "function simulate_dlti(u::AbstractMatrix, A, B, x1)\n",
    "    N = size(u, 2) + 1\n",
    "    x = zeros(size(A, 2), N)\n",
    "    x[:, 1] = x1\n",
    "    for k in 1:N-1\n",
    "        x[:, k + 1] = A * x[:, k] + B * u[:, k]\n",
    "    end\n",
    "    return x\n",
    "end\n",
    "\n",
    "function simulate_dlti(u::AbstractVector, A, B, x1)\n",
    "    simulate_dlti(reshape(u, 1, length(u)), A, B, x1)\n",
    "end"
   ]
  },
  {
   "cell_type": "code",
   "execution_count": null,
   "id": "70d83e25",
   "metadata": {},
   "outputs": [],
   "source": [
    "m = 2.0 # Mass\n",
    "A_c , B_c = double_integrator(m)\n",
    "h = 0.05  # Time step\n",
    "A, B = continuous_to_discrete(A_c, B_c, h);"
   ]
  },
  {
   "cell_type": "code",
   "execution_count": null,
   "id": "3aeca948",
   "metadata": {},
   "outputs": [],
   "source": [
    "A ≈ I + A_c * h"
   ]
  },
  {
   "cell_type": "code",
   "execution_count": null,
   "id": "2f6b6fc4",
   "metadata": {},
   "outputs": [],
   "source": [
    "B ≈ B_c * h + [h^2 / 2m; 0]"
   ]
  },
  {
   "cell_type": "markdown",
   "id": "075ab535",
   "metadata": {},
   "source": [
    "## Indirect optimal control: Naive way"
   ]
  },
  {
   "cell_type": "markdown",
   "id": "3da4a986",
   "metadata": {},
   "source": [
    "- Indirect optimal control is also known as \"single shooting\"\n",
    "\n",
    "- The naive way is to perform gradient descent without any problem structure.\n",
    "\n",
    "\\begin{align}\n",
    "\\min_{u_{1:N{-}1}} &\\quad J(u_{1:N{-}1}) = \\sum_{n=1}^{N-1} \\ell_n(x_n(u_{1:n{-}1}), u_n) + \\ell_N(x_N(u_{1:N{-}1}), u_N) \\\\\n",
    "\\end{align}\n"
   ]
  },
  {
   "cell_type": "markdown",
   "id": "4cf604a3",
   "metadata": {},
   "source": [
    "- We will start with the double integrator and solve the LQR problem,\n",
    "\\begin{align}\n",
    "\\min_{u_{1:N{-}1}} &\\quad J(u_{1:{N{-}1}}) = \\sum_{n=1}^{N-1} \\tfrac{1}{2} x_n(u_{1:n{-}1})^T Q_n x_n(u_{1:n{-}1}) + \\tfrac{1}{2} u_n^T R_n u_n + \\tfrac{1}{2} x_N(u_{1:N{-}1})^T Q_N x_N(u_{1:N{-}1}) \\\\\n",
    "\\text{s.t.} &\\quad Q_n \\succeq 0,\\, R_n \\succ 0\n",
    "\\end{align}"
   ]
  },
  {
   "cell_type": "code",
   "execution_count": null,
   "id": "65746d46",
   "metadata": {},
   "outputs": [],
   "source": [
    "m = 0.1 # Mass\n",
    "A_c, B_c = double_integrator(m)\n",
    "h = 0.1  # Time step\n",
    "A, B = continuous_to_discrete(A_c, B_c, h)\n",
    "x1 = [1.0; 2.0]  # Initial state\n",
    "\n",
    "Q = 1e-4I\n",
    "R = 1e-1I\n",
    "QN = 1e2I"
   ]
  },
  {
   "cell_type": "code",
   "execution_count": null,
   "id": "b2a64e90",
   "metadata": {},
   "outputs": [],
   "source": [
    "function J(\n",
    "    x::AbstractMatrix,\n",
    "    u::AbstractVecOrMat;\n",
    "    Q = 1e-2I, \n",
    "    R = 1e-4I, \n",
    "    QN = 1e2I\n",
    ")\n",
    "    u = isa(u, AbstractMatrix) ? u : reshape(u, 1, length(u))\n",
    "    \n",
    "    N = size(u, 2) + 1    \n",
    "    J = 0.0\n",
    "    for n in 1:N-1\n",
    "        xₙ = x[:, n]\n",
    "        uₙ = u[:, n]\n",
    "        J += 1/2 * (xₙ' * Q * xₙ + uₙ' * R * uₙ)\n",
    "    end\n",
    "    J += 1/2 * (x[:, N]' * QN * x[:, N])\n",
    "    return J\n",
    "end\n",
    "\n",
    "function J(u::AbstractVecOrMat; A=A, B=B, x1=x1, kwargs...)\n",
    "    x = simulate_dlti(u, A, B, x1)\n",
    "    return J(x, u; kwargs...)\n",
    "end"
   ]
  },
  {
   "cell_type": "markdown",
   "id": "3154accd",
   "metadata": {},
   "source": [
    "### Gradient descent"
   ]
  },
  {
   "cell_type": "code",
   "execution_count": null,
   "id": "f63052fe",
   "metadata": {},
   "outputs": [],
   "source": [
    "N = 40\n",
    "u0 = randn(N - 1)\n",
    "J(u0; A=A, B=B, x1=x1, Q=Q, R=R, QN=QN)"
   ]
  },
  {
   "cell_type": "code",
   "execution_count": null,
   "id": "a3ae0df6",
   "metadata": {},
   "outputs": [],
   "source": [
    "fig, ax = series(simulate_dlti(u0, A, B, x1), labels=[\"q\", \"q̇\"])\n",
    "axislegend(ax)\n",
    "fig"
   ]
  },
  {
   "cell_type": "code",
   "execution_count": null,
   "id": "259c4830",
   "metadata": {},
   "outputs": [],
   "source": [
    "res = optimize(u -> J(u; A=A, B=B, x1=x1, Q=Q, R=R, QN=QN), u0, GradientDescent())"
   ]
  },
  {
   "cell_type": "code",
   "execution_count": null,
   "id": "6bdc3daa",
   "metadata": {},
   "outputs": [],
   "source": [
    "fig, ax = series(simulate_dlti(res.minimizer, A, B, x1), labels=[\"q\", \"q̇\"])\n",
    "axislegend(ax)\n",
    "fig"
   ]
  },
  {
   "cell_type": "code",
   "execution_count": null,
   "id": "da25bec9",
   "metadata": {},
   "outputs": [],
   "source": [
    "stairs(res.minimizer)"
   ]
  },
  {
   "cell_type": "markdown",
   "id": "bc2ccac8",
   "metadata": {},
   "source": [
    "### Newton's method"
   ]
  },
  {
   "cell_type": "code",
   "execution_count": null,
   "id": "dcf2bfd0",
   "metadata": {},
   "outputs": [],
   "source": [
    "# Newton must have vector input\n",
    "res_newton = optimize(u -> J(u; A=A, B=B, x1=x1, Q=Q, R=R, QN=QN), u0, Newton())"
   ]
  },
  {
   "cell_type": "code",
   "execution_count": null,
   "id": "5369e9d2",
   "metadata": {},
   "outputs": [],
   "source": [
    "fig, ax = series(simulate_dlti(res_newton.minimizer, A, B, x1), labels=[\"q\", \"q̇\"])\n",
    "axislegend(ax)\n",
    "fig"
   ]
  },
  {
   "cell_type": "code",
   "execution_count": null,
   "id": "2e4a758b",
   "metadata": {},
   "outputs": [],
   "source": [
    "stairs(res_newton.minimizer)"
   ]
  },
  {
   "cell_type": "markdown",
   "id": "736c60d9",
   "metadata": {},
   "source": [
    "## Indirect optimal control: Pontryagin"
   ]
  },
  {
   "cell_type": "markdown",
   "id": "7d2ee238",
   "metadata": {},
   "source": [
    "**Tagline**\n",
    "\n",
    "\"optimize, then discretize\""
   ]
  },
  {
   "cell_type": "markdown",
   "id": "2dc824fe",
   "metadata": {},
   "source": [
    "**Ideas**\n",
    "\n",
    "- We can this in a smart way by using the temporal structure of the problem.\n",
    "\n",
    "\\begin{align}\n",
    "\\min_{x_{1:N}, u_{1:{N{-}1}}} & \\quad J(x_{1:N}, u_{1:{N{-}1}}) = \\sum_{n=1}^{N-1} \\tfrac{1}{2} x_n^T Q_n x_n + \\tfrac{1}{2} u_n^T R_n u_n + \\tfrac{1}{2} x_N^T Q_N x_N \\\\\n",
    "\\text{s.t.} &\\quad x_{n+1} = A_n x_n + B_n u_n \\\\\n",
    "&\\quad Q_n \\succeq 0,\\, R_n \\succ 0\n",
    "\\end{align}\n",
    "\n"
   ]
  },
  {
   "cell_type": "markdown",
   "id": "94515277",
   "metadata": {},
   "source": [
    "- Lagrangian:\n",
    "\n",
    "\\begin{equation}\n",
    "    L(x_{1:N}, u_{1:{N{-}1}}, \\lambda_{2:N}) = \\sum_{n=1}^{N-1} \\tfrac{1}{2} x_n^T Q_n x_n + \\tfrac{1}{2} u_n^T R_n u_n + \\lambda_{n+1}^T(A_n x_n + B_n u_n - x_{n+1}) + \\tfrac{1}{2} x_N^T Q_N x_N \n",
    "\\end{equation}"
   ]
  },
  {
   "cell_type": "markdown",
   "id": "371b59f9",
   "metadata": {},
   "source": [
    "- KKT conditions:\n",
    "\n",
    "\\begin{align}\n",
    "    \\frac{\\partial L}{\\partial \\lambda_n} &= (A_n x_n + B_n u_n - x_{n+1})^T \\overset{!}{=} 0 \\\\\n",
    "    \\frac{\\partial L}{\\partial x_n} &= x_n^T Q_n + \\lambda_{n+1}^T A_n - \\lambda_{n}^T \\overset{!}{=} 0 \\\\\n",
    "    \\frac{\\partial L}{\\partial x_N} &= x_N^T Q_N - \\lambda_{N}^T \\overset{!}{=} 0 \\\\\n",
    "    \\frac{\\partial L}{\\partial u_n} &= u_n^T R_n + \\lambda_{n+1}^T B_n \\overset{!}{=} 0\n",
    "\\end{align}"
   ]
  },
  {
   "cell_type": "markdown",
   "id": "66efed9b",
   "metadata": {},
   "source": [
    "- Rewrite:\n",
    "\n",
    "\\begin{align}\n",
    "    x_{n+1} &= A_n x_n + B_n u_n \\\\\n",
    "    \\lambda_{n} &= A_n^T \\lambda_{n+1} + Q_n x_n \\\\\n",
    "    \\lambda_N &= Q_N x_N \\\\\n",
    "    u_n &= -R_n^{-1} B_n^T \\lambda_{n+1}\n",
    "\\end{align}\n",
    "\n",
    "- There is a _forward_ equation and a _backward_ equation. This computation is _backpropagation_ through time.\n",
    "- We inherit many of the  same problems, e.g., vanishing / exploding gradients."
   ]
  },
  {
   "cell_type": "code",
   "execution_count": null,
   "id": "d46eefd4",
   "metadata": {},
   "outputs": [],
   "source": [
    "N = 100\n",
    "m = 1.0 # Mass\n",
    "A_c, B_c = double_integrator(m)\n",
    "h = 0.1  # Time step\n",
    "A, B = continuous_to_discrete(A_c, B_c, h)\n",
    "x1 = [1.0; 1.0]  # Initial state\n",
    "\n",
    "Q = 1e-4I\n",
    "R = 1e-2I\n",
    "QN = 1e1I"
   ]
  },
  {
   "cell_type": "code",
   "execution_count": null,
   "id": "f7bb34b9",
   "metadata": {},
   "outputs": [],
   "source": [
    "# Initial guess\n",
    "u = zeros(1, N - 1)\n",
    "Δu = ones(1, N - 1)\n",
    "x = simulate_dlti(u, A, B, x1)\n",
    "λ = zeros(size(x, 1), N)\n",
    "\n",
    "# Line search\n",
    "α = 1.0 # Step size\n",
    "b = 1e-2 # Tolerance\n",
    "α_min = 1e-16 # Minimum step size\n",
    "loop = 0\n",
    "\n",
    "# Verbose\n",
    "verbose = false\n",
    "\n",
    "while maximum(abs, Δu) > 1e-2 && α > α_min\n",
    "    verbose ? println(\"Iteration: \", loop) : nothing\n",
    "\n",
    "    # Backward pass to compute λ and Δu\n",
    "    λ[:, N] = QN * x[:, N]\n",
    "    for n = N-1:-1:1\n",
    "        Δu[:, n] = - R\\B' * λ[:, n+1] - u[:, n]\n",
    "        λ[:, n] .= Q * x[:, n] + A' * λ[:, n+1]\n",
    "    end\n",
    "\n",
    "\n",
    "    # Forward pass (with line search) to compute x\n",
    "    α = 1.0\n",
    "    b = 1e-2 # Tolerance\n",
    "    unew = u + α .* Δu\n",
    "    xnew = simulate_dlti(unew, A, B, x1)\n",
    "    \n",
    "    while J(xnew, unew) > J(x, u) - b * α * norm(Δu)^2\n",
    "        α = 0.5 * α\n",
    "        unew = u + α .* Δu\n",
    "        xnew = simulate_dlti(unew, A, B, x1)\n",
    "\n",
    "        if verbose && α < α_min\n",
    "            println(\"\\tLine search failed to find a suitable step size\")\n",
    "            break\n",
    "        end\n",
    "    end\n",
    "\n",
    "    u = unew\n",
    "    x = xnew\n",
    "    verbose ? println(\"\\tα = \", α) : nothing\n",
    "\n",
    "    if verbose && loop > 100\n",
    "        println(\"\\tMaximum iterations reached\")\n",
    "        break\n",
    "    end\n",
    "    loop += 1\n",
    "\n",
    "end"
   ]
  },
  {
   "cell_type": "code",
   "execution_count": null,
   "id": "66cac995",
   "metadata": {},
   "outputs": [],
   "source": [
    "series(simulate_dlti(u, A, B, x1))"
   ]
  },
  {
   "cell_type": "code",
   "execution_count": null,
   "id": "e20ed42f",
   "metadata": {},
   "outputs": [],
   "source": [
    "stairs(u[1, :])"
   ]
  },
  {
   "cell_type": "markdown",
   "id": "179d9b34",
   "metadata": {},
   "source": [
    "**Exercise: Neural ODEs**\n",
    "\n",
    "- Check out this [SciML note](https://docs.sciml.ai/DiffEqFlux/stable/examples/neural_ode/). Can we connect what we learned about Pontryagin to this work?"
   ]
  },
  {
   "cell_type": "markdown",
   "id": "ebf11884",
   "metadata": {},
   "source": [
    "## Direct optimal control"
   ]
  },
  {
   "cell_type": "markdown",
   "id": "3cf41603",
   "metadata": {},
   "source": [
    "**Tagline**\n",
    "\n",
    "\"discretize, then optimize\"\n",
    "\n",
    "**Ideas**\n",
    "\n",
    "- Package the optimization variables into a trajectory\n",
    "- Set up a quadratic program defined over the trajectory\n",
    "- Observe the presence of sparsity\n",
    "\n",
    "\\begin{align}\n",
    "\\min_{x_{1:N}, u_{1:{N{-}1}}} &\\quad J(x_{1:N}, u_{1:{N{-}1}}) = \\sum_{n=1}^{N-1} \\tfrac{1}{2} x_n^T Q_n x_n + \\tfrac{1}{2} u_n^T R_n u_n + \\tfrac{1}{2} x_N^T Q_N x_N \\\\\n",
    "\\text{s.t.} &\\quad x_{n+1} = A_n x_n + B_n u_n \\\\\n",
    "&\\quad Q_n \\succeq 0,\\, R_n \\succ 0\n",
    "\\end{align}\n",
    "\n",
    "\n"
   ]
  },
  {
   "cell_type": "code",
   "execution_count": null,
   "id": "e3e9c8e5",
   "metadata": {},
   "outputs": [],
   "source": [
    "m = 0.1 # Mass\n",
    "A_c, B_c = double_integrator(m)\n",
    "h = 0.1  # Time step\n",
    "A, B = sparse.(continuous_to_discrete(A_c, B_c, h))\n",
    "x1 = [1.0; 1.0]  # Initial state\n",
    "\n",
    "N = 100\n",
    "x_dim = size(A, 2)\n",
    "u_dim = size(B, 2)\n",
    "\n",
    "Q = sparse(1e-4I(x_dim))\n",
    "R = sparse(1e-2I(u_dim))\n",
    "QN = sparse(1e2I(x_dim))"
   ]
  },
  {
   "cell_type": "markdown",
   "id": "5cf44c24",
   "metadata": {},
   "source": [
    "Define \n",
    "\\begin{align}\n",
    "Z &= \\begin{bmatrix} \n",
    "    x_1 & x_2 & \\cdots & x_N \\\\\n",
    "    u_1 & u_2 & \\cdots & u_N \n",
    "\\end{bmatrix} \\\\\n",
    "\\Rightarrow \\vec{Z} &= \\begin{bmatrix} x_1 \\\\ u_1 \\\\ x_2 \\\\ u_2 \\\\ \\vdots \\\\ x_N \\\\ u_N \\end{bmatrix}\n",
    "\\end{align}\n",
    "and drop the first state (known) and last control (not used),\n",
    "\\begin{equation}\n",
    " z = \\vec{Z}[\\text{length}(x_1){:}\\text{end}{-}\\text{length}(u_N)]\n",
    "\\end{equation}"
   ]
  },
  {
   "cell_type": "code",
   "execution_count": null,
   "id": "6c7408db",
   "metadata": {},
   "outputs": [],
   "source": [
    "z_dim = (N-2) * (x_dim + u_dim) + u_dim + x_dim"
   ]
  },
  {
   "cell_type": "markdown",
   "id": "a8696011",
   "metadata": {},
   "source": [
    "Write the cost function as $J = \\tfrac{1}{2} z^T H z$, where\n",
    "\\begin{equation}\n",
    "    H = \\begin{bmatrix}\n",
    "        R_1 & 0 & 0 & & 0 \\\\\n",
    "        0 & Q_2 & 0 & \\cdots & 0 \\\\\n",
    "        0 & 0 & R_2 & & 0 \\\\\n",
    "        & \\vdots & & \\ddots & \\vdots \\\\\n",
    "        0 & 0 & 0 & \\cdots & Q_N \\\\\n",
    "    \\end{bmatrix}.\n",
    "\\end{equation}"
   ]
  },
  {
   "cell_type": "code",
   "execution_count": null,
   "id": "ad371555",
   "metadata": {},
   "outputs": [],
   "source": [
    "# Recall our shorthand for kron\n",
    "H = blockdiag(sparse(R), I(N-2) ⊗ blockdiag(sparse(Q), sparse(R)), sparse(QN))"
   ]
  },
  {
   "cell_type": "markdown",
   "id": "055b4cba",
   "metadata": {},
   "source": [
    "Write the dynamics constraint, $Cz = d$, where\n",
    "\\begin{equation}\n",
    "C = \\begin{bmatrix}\n",
    "    B_1 & -I & 0 & 0 & & 0 \\\\\n",
    "    0 & A_2 & B_2 & -I & \\cdots & 0 \\\\\n",
    "    \\vdots & \\vdots & \\ddots & \\ddots & \\ddots & 0 \\\\\n",
    "    0 & 0 & \\cdots & A_{N-1} & B_{N-1} & -I\n",
    "\\end{bmatrix}, \\qquad\n",
    "d = \\begin{bmatrix}\n",
    "    -A_1 x_1 \\\\\n",
    "    0 \\\\\n",
    "    0 \\\\\n",
    "    \\vdots \\\\\n",
    "    0\n",
    "\\end{bmatrix}\n",
    "\\end{equation}\n"
   ]
  },
  {
   "cell_type": "code",
   "execution_count": null,
   "id": "8bdc6697",
   "metadata": {},
   "outputs": [],
   "source": [
    "C = I(N-1) ⊗ [B -I(x_dim)]\n",
    "for k = 1:N-2\n",
    "    C[(k * x_dim) .+ (1:x_dim), (k * (x_dim + u_dim) - x_dim) .+ (1:x_dim)] = A\n",
    "end\n",
    "C"
   ]
  },
  {
   "cell_type": "code",
   "execution_count": null,
   "id": "7ebbe01e",
   "metadata": {},
   "outputs": [],
   "source": [
    "# Check the structure of C\n",
    "k = 6\n",
    "(\n",
    "    C[(k * x_dim) .+ (1:x_dim), (k * (x_dim + u_dim) - x_dim) .+ (1:(2x_dim + u_dim))] \n",
    "    == [A B -I(x_dim)]\n",
    ")"
   ]
  },
  {
   "cell_type": "code",
   "execution_count": null,
   "id": "d26005ef",
   "metadata": {},
   "outputs": [],
   "source": [
    "d = [-A * x1; zeros((N-2) * x_dim)];"
   ]
  },
  {
   "cell_type": "markdown",
   "id": "ca1f1795",
   "metadata": {},
   "source": [
    "Putting it all together, \n",
    "\\begin{align}\n",
    "    \\min_z &\\quad \\tfrac{1}{2} z^T H z \\\\\n",
    "    \\text{s.t.}&\\quad C z = d\n",
    "\\end{align}"
   ]
  },
  {
   "cell_type": "markdown",
   "id": "157ac404",
   "metadata": {},
   "source": [
    "- Lagrangian:\n",
    "\\begin{equation}\n",
    "    L(z, \\lambda) = \\tfrac{1}{2} z^T H z + \\lambda^T (C z - d)\n",
    "\\end{equation}"
   ]
  },
  {
   "cell_type": "markdown",
   "id": "d609af3f",
   "metadata": {},
   "source": [
    "- KKT conditions:\n",
    "\\begin{align}\n",
    "    & \\nabla_z L = H z + C^T \\lambda \\overset{!}{=} 0 \\\\\n",
    "    & \\nabla_\\lambda L = Cz - d \\overset{!}{=} 0 \\\\\n",
    "\\end{align}"
   ]
  },
  {
   "cell_type": "markdown",
   "id": "fa1419ad",
   "metadata": {},
   "source": [
    "- Matrix form:\n",
    "\\begin{equation}\n",
    "    \\Rightarrow \\begin{bmatrix} H & C^T \\\\ C & 0 \\end{bmatrix} \n",
    "    \\begin{bmatrix} z \\\\ \\lambda \\end{bmatrix} \n",
    "    = \\begin{bmatrix} 0 \\\\ d \\end{bmatrix}\n",
    "\\end{equation}\n",
    "\n",
    "- Quick check: How many iterations will this take to solve?"
   ]
  },
  {
   "cell_type": "code",
   "execution_count": null,
   "id": "91191b8c",
   "metadata": {},
   "outputs": [],
   "source": [
    "P = [H C'; C zeros(size(C, 1), size(C, 1))]"
   ]
  },
  {
   "cell_type": "code",
   "execution_count": null,
   "id": "c77a300e",
   "metadata": {},
   "outputs": [],
   "source": [
    "res_qp = P \\ [zeros(z_dim); d]\n",
    "\n",
    "# Extract the minimizer\n",
    "z_minimizer = res_qp[1:z_dim]\n",
    "u_minimizer = z_minimizer[1:x_dim + u_dim:end];"
   ]
  },
  {
   "cell_type": "code",
   "execution_count": null,
   "id": "b0142404",
   "metadata": {},
   "outputs": [],
   "source": [
    "fig, ax = series(simulate_dlti(u_minimizer, A, B, x1), labels=[\"q\", \"q̇\"])\n",
    "axislegend(ax)\n",
    "fig"
   ]
  },
  {
   "cell_type": "code",
   "execution_count": null,
   "id": "241c86ff",
   "metadata": {},
   "outputs": [],
   "source": [
    "stairs(u_minimizer)"
   ]
  },
  {
   "cell_type": "markdown",
   "id": "678b4ab4",
   "metadata": {},
   "source": [
    "- Quick check: What about the temporal structure?"
   ]
  }
 ],
 "metadata": {
  "kernelspec": {
   "display_name": "Julia 1.11.5",
   "language": "julia",
   "name": "julia-1.11"
  },
  "language_info": {
   "file_extension": ".jl",
   "mimetype": "application/julia",
   "name": "julia",
   "version": "1.11.5"
  }
 },
 "nbformat": 4,
 "nbformat_minor": 5
}
