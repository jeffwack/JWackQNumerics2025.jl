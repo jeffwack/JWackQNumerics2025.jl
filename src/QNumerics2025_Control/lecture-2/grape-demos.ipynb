{
 "cells": [
  {
   "cell_type": "code",
   "execution_count": null,
   "id": "846ea9ae",
   "metadata": {},
   "outputs": [],
   "source": [
    "using Piccolo\n",
    "using Optim\n",
    "using LinearAlgebra\n",
    "using SparseArrays\n",
    "using CairoMakie\n",
    "\n",
    "# useful\n",
    "const ⊗ = kron"
   ]
  },
  {
   "cell_type": "markdown",
   "id": "853a55d9",
   "metadata": {},
   "source": [
    "# Goals\n",
    "-----\n",
    "- Learn the quantum isomorphisms that map variables to real-valued state vectors\n",
    "- Study how gradient descent and Newton's method can be used to optimize quantum controls. "
   ]
  },
  {
   "cell_type": "markdown",
   "id": "64d380b7",
   "metadata": {},
   "source": [
    "# I. Isomorphisms\n",
    "-----"
   ]
  },
  {
   "cell_type": "markdown",
   "id": "114fbe0b",
   "metadata": {},
   "source": [
    "**Piccolo isomorphisms**\n",
    "- The standard quantum states are _kets_, $|\\psi\\rangle$, and _Unitaries_, $U$.\n",
    "- Open quantum system require _density matrices_, $\\rho$, and _quantum channels_, $\\Phi$.\n",
    "- Standard quantum states have an open system counterpart,\n",
    "\n",
    "\\begin{align}\n",
    "    \\text{closed} &\\longrightarrow \\text{open}  \\\\ \\hline\n",
    "    |\\psi\\rangle &\\longrightarrow |\\psi\\rangle \\langle \\psi | \\\\\n",
    "    U &\\longrightarrow U \\cdot U^\\dagger \n",
    "\\end{align}"
   ]
  },
  {
   "cell_type": "markdown",
   "id": "cd563b4b",
   "metadata": {},
   "source": [
    "🚧 ⚠️ If you are seeing a lot of boxes like Ũ⃗, it is _very_ useful to have the [JuliaMono](https://juliamono.netlify.app/) fonts for Piccolo. Install and [change the default font family](https://code.visualstudio.com/docs/terminal/appearance)."
   ]
  },
  {
   "cell_type": "code",
   "execution_count": null,
   "id": "3b7bb457",
   "metadata": {},
   "outputs": [],
   "source": [
    "# Ok, so it's not technically a wavefunction\n",
    "ψ = [1; 2] + im * [3; 4]"
   ]
  },
  {
   "cell_type": "code",
   "execution_count": null,
   "id": "4d8dc65f",
   "metadata": {},
   "outputs": [],
   "source": [
    "ψ̃ = ket_to_iso(ψ)"
   ]
  },
  {
   "cell_type": "code",
   "execution_count": null,
   "id": "578438df",
   "metadata": {},
   "outputs": [],
   "source": [
    "iso_to_ket(ψ̃)"
   ]
  },
  {
   "cell_type": "code",
   "execution_count": null,
   "id": "4977ff4e",
   "metadata": {},
   "outputs": [],
   "source": [
    "# We often need to convert a complex matrix U to a real vector, Ũ⃗. \n",
    "U = [1 5; 2 6] + im * [3 7; 4 8]"
   ]
  },
  {
   "cell_type": "markdown",
   "id": "b6f53b37",
   "metadata": {},
   "source": [
    "Remember what you learned about Julia arrays! Why would I write the matrix this way?"
   ]
  },
  {
   "cell_type": "code",
   "execution_count": null,
   "id": "9327da6b",
   "metadata": {},
   "outputs": [],
   "source": [
    "Ũ⃗ = operator_to_iso_vec(U)"
   ]
  },
  {
   "cell_type": "code",
   "execution_count": null,
   "id": "7b68b275",
   "metadata": {},
   "outputs": [],
   "source": [
    "iso_vec_to_operator(Ũ⃗)"
   ]
  },
  {
   "cell_type": "markdown",
   "id": "25d7e1cc",
   "metadata": {},
   "source": [
    "Physics check: What's an efficieny that we might be able to leverage when storing $\\rho$ that you don't see here?"
   ]
  },
  {
   "cell_type": "code",
   "execution_count": null,
   "id": "de5702a6",
   "metadata": {},
   "outputs": [],
   "source": [
    "# Warning: The isomorphism `density_to_iso_vec` is not the same as `operator_to_iso_vec`.\n",
    "ρ = [1 2; 3 4] + im * [5 6; 7 8]\n",
    "ρ̃⃗ = density_to_iso_vec(ρ)"
   ]
  },
  {
   "cell_type": "markdown",
   "id": "3df159db",
   "metadata": {},
   "source": [
    "**Exercise** \n",
    "- Just how big are these vectors for a single qubit state? A two qubit state? \n",
    "- What about quantum channels? "
   ]
  },
  {
   "cell_type": "code",
   "execution_count": null,
   "id": "31b141fb",
   "metadata": {},
   "outputs": [],
   "source": []
  },
  {
   "cell_type": "markdown",
   "id": "a7ff284e",
   "metadata": {},
   "source": [
    "# II. Quantum dynamics\n",
    "-----"
   ]
  },
  {
   "cell_type": "markdown",
   "id": "415568b2",
   "metadata": {},
   "source": [
    "**Quantum systems**\n",
    "\n",
    "First up, we are going to look at some dynamics convenience functions in Piccolo.\n",
    "\n",
    "- Let's flip a qubit from the ground state to the excited state.\n",
    "- Introduce the isomorphisms that make quantum dynamics real-valued.  \n",
    "- Use [PiccoloQuantumObjects](https://docs.harmoniqs.co/PiccoloQuantumObjects/dev/) to make a quantum system.\n",
    "- Use a rollout to integrate the quantum system forward in time."
   ]
  },
  {
   "cell_type": "markdown",
   "id": "415d8422",
   "metadata": {},
   "source": [
    "\\begin{equation}\n",
    "    H(u(t)) = \\underbrace{u_1(t) XI + u_2(t) YI}_\\text{qubit 1} \n",
    "    + \\underbrace{u_3(t) IX + u_4(t) IY}_\\text{qubit 2} + \\underbrace{u_5(t) XX}_\\text{coupling}\n",
    "\\end{equation}"
   ]
  },
  {
   "cell_type": "code",
   "execution_count": null,
   "id": "48dbe9f6",
   "metadata": {},
   "outputs": [],
   "source": [
    "H_drives = [\n",
    "    PAULIS.X ⊗ PAULIS.I,\n",
    "    PAULIS.Y ⊗ PAULIS.I,\n",
    "    PAULIS.I ⊗ PAULIS.X,\n",
    "    PAULIS.I ⊗ PAULIS.Y,\n",
    "    PAULIS.X ⊗ PAULIS.X\n",
    "]\n",
    "\n",
    "system = QuantumSystem(H_drives)"
   ]
  },
  {
   "cell_type": "markdown",
   "id": "47ccb6c0",
   "metadata": {},
   "source": [
    "- Quantum systems contain the operators we need, including the real valued versions."
   ]
  },
  {
   "cell_type": "code",
   "execution_count": null,
   "id": "36df839d",
   "metadata": {},
   "outputs": [],
   "source": [
    "get_drift(system)"
   ]
  },
  {
   "cell_type": "markdown",
   "id": "9eb3d1bf",
   "metadata": {},
   "source": [
    "- Quick check: What do we expect to see?"
   ]
  },
  {
   "cell_type": "code",
   "execution_count": null,
   "id": "42f76e9f",
   "metadata": {},
   "outputs": [],
   "source": [
    "get_drives(system)[1]"
   ]
  },
  {
   "cell_type": "code",
   "execution_count": null,
   "id": "83956c7a",
   "metadata": {},
   "outputs": [],
   "source": [
    "system.H(randn(system.n_drives))"
   ]
  },
  {
   "cell_type": "markdown",
   "id": "3d7538c1",
   "metadata": {},
   "source": [
    "- Quick check: How big will this operator be?"
   ]
  },
  {
   "cell_type": "code",
   "execution_count": null,
   "id": "40a41e17",
   "metadata": {},
   "outputs": [],
   "source": [
    "system.G(randn(system.n_drives))"
   ]
  },
  {
   "cell_type": "markdown",
   "id": "1422b4de",
   "metadata": {},
   "source": [
    "- We can use a system to perform a rollout."
   ]
  },
  {
   "cell_type": "code",
   "execution_count": null,
   "id": "05297ebb",
   "metadata": {},
   "outputs": [],
   "source": [
    "# Timing information (e.g. 20 ns superconducting qubit gate)\n",
    "T = 50\n",
    "Δt = 0.4\n",
    "timesteps = fill(Δt, T)"
   ]
  },
  {
   "cell_type": "code",
   "execution_count": null,
   "id": "f8c42c92",
   "metadata": {},
   "outputs": [],
   "source": [
    "# Controls\n",
    "controls = randn(system.n_drives, T + 1);"
   ]
  },
  {
   "cell_type": "code",
   "execution_count": null,
   "id": "809446cf",
   "metadata": {},
   "outputs": [],
   "source": [
    "unitary_rollout(controls, timesteps, system)"
   ]
  },
  {
   "cell_type": "code",
   "execution_count": null,
   "id": "214df1ee",
   "metadata": {},
   "outputs": [],
   "source": [
    "# Entangling gate\n",
    "U_goal = GATES.CX\n",
    "\n",
    "# How'd we do?\n",
    "println(\"ℱ = \", unitary_rollout_fidelity(U_goal, controls, timesteps, system))"
   ]
  },
  {
   "cell_type": "markdown",
   "id": "a04ca2b8",
   "metadata": {},
   "source": [
    "**We have all the pieces we need to solve!**\n",
    "\n",
    "Let's put Piccolo to work."
   ]
  },
  {
   "cell_type": "code",
   "execution_count": null,
   "id": "abeea88d",
   "metadata": {},
   "outputs": [],
   "source": [
    "# Piccolo (we'll learn more about this later)\n",
    "prob = UnitarySmoothPulseProblem(system, U_goal, T, Δt);"
   ]
  },
  {
   "cell_type": "code",
   "execution_count": null,
   "id": "1649c106",
   "metadata": {},
   "outputs": [],
   "source": [
    "# save these initial controls for later\n",
    "a_init = prob.trajectory.a\n",
    "plot(prob.trajectory, :a)"
   ]
  },
  {
   "cell_type": "code",
   "execution_count": null,
   "id": "8025d948",
   "metadata": {},
   "outputs": [],
   "source": [
    "solve!(\n",
    "    prob, \n",
    "    max_iter=100, print_level=1, verbose=false, options=IpoptOptions(eval_hessian=false)\n",
    ")\n",
    "\n",
    "ℱ = unitary_rollout_fidelity(prob.trajectory, system)\n",
    "\n",
    "println(\"The fidelity is \", ℱ)"
   ]
  },
  {
   "cell_type": "code",
   "execution_count": null,
   "id": "ffb5db31",
   "metadata": {},
   "outputs": [],
   "source": [
    "a_final = prob.trajectory.a\n",
    "plot(prob.trajectory, :a)"
   ]
  },
  {
   "cell_type": "markdown",
   "id": "b5ec4905",
   "metadata": {},
   "source": [
    "# III. GRAPE\n",
    "-----"
   ]
  },
  {
   "cell_type": "markdown",
   "id": "67039ab2",
   "metadata": {},
   "source": [
    "The [GRAPE algorithm](https://doi.org/10.1016/j.jmr.2004.11.004) comes from NMR in 2004, and there is a [Julia version](https://github.com/JuliaQuantumControl/GRAPE.jl). We'll reproduce GRAPE in this example."
   ]
  },
  {
   "cell_type": "code",
   "execution_count": null,
   "id": "ead51198",
   "metadata": {},
   "outputs": [],
   "source": [
    "# We work with timesteps between knot points\n",
    "timesteps = fill(Δt, T)\n",
    "\n",
    "# Let's use our previous function to compute the fidelity\n",
    "GRAPE(controls) = abs(1 - unitary_rollout_fidelity(U_goal, controls, timesteps, system))"
   ]
  },
  {
   "cell_type": "markdown",
   "id": "1cbd0c65",
   "metadata": {
    "vscode": {
     "languageId": "plaintext"
    }
   },
   "source": [
    "## Automatic differentiation\n",
    "- It's quick to test! Compare different algorithms, e.g., `Newton()`, `GradientDescent()`, `LBFGS()`\n",
    "- If you switch from gradient descent to a quasi-Newton method, you get to [write another paper](https://www.sciencedirect.com/science/article/abs/pii/S1090780711002552)."
   ]
  },
  {
   "cell_type": "code",
   "execution_count": null,
   "id": "9d30d33f",
   "metadata": {},
   "outputs": [],
   "source": [
    "result_GRAPE = optimize(GRAPE, collect(a_init), LBFGS())"
   ]
  },
  {
   "cell_type": "code",
   "execution_count": null,
   "id": "acad061e",
   "metadata": {},
   "outputs": [],
   "source": [
    "a_GRAPE = Optim.minimizer(result_GRAPE)\n",
    "println(\"The fidelity is \", unitary_rollout_fidelity(U_goal, a_GRAPE, timesteps, system))"
   ]
  },
  {
   "cell_type": "markdown",
   "id": "0fee9073",
   "metadata": {},
   "source": [
    "- What do we think we'll see here?"
   ]
  },
  {
   "cell_type": "code",
   "execution_count": null,
   "id": "16275aa1",
   "metadata": {},
   "outputs": [],
   "source": [
    "series(cumsum(timesteps), a_GRAPE)"
   ]
  },
  {
   "cell_type": "markdown",
   "id": "25bd9bc5",
   "metadata": {
    "vscode": {
     "languageId": "plaintext"
    }
   },
   "source": [
    "## Analytic gradients\n",
    "\n",
    "**Calculus practice**\n",
    "- We can combine forward and backward rollouts to compute the gradients,\n",
    "\\begin{align}\n",
    "    \\frac{\\partial U(T)}{\\partial u_k(t)} &= U(T, t) (-i H_k \\Delta t) U(t) \\\\\n",
    "   \\Rightarrow \\langle\\psi_\\text{goal} | \\frac{\\partial U(T)}{\\partial u_k(t)} |\\psi_\\text{init.}\\rangle &= -i \\Delta t \\langle\\psi_\\text{goal}^\\text{bwd.}(t) | H_k |\\psi_\\text{init.}^\\text{fwd.}(t) \\rangle.\n",
    "\\end{align}\n",
    "\n",
    "\n",
    "**Exercise**\n",
    "- Implement gradient descent using the analytic gradients.\n",
    "- Sometimes, there are insights you can only get by opening up the black box, e.g. [d-GRAPE](https://journals.aps.org/pra/abstract/10.1103/PhysRevA.97.042122)."
   ]
  },
  {
   "cell_type": "markdown",
   "id": "60ad46e6",
   "metadata": {},
   "source": [
    "# III. Function Spaces\n",
    "-----"
   ]
  },
  {
   "cell_type": "markdown",
   "id": "3e2fd427",
   "metadata": {},
   "source": [
    "- Pick a function basis for the controls and optimize the coefficients. Some choices are [trig functions](https://journals.aps.org/pra/abstract/10.1103/PhysRevA.84.022326) or [Slepians](https://journals.aps.org/pra/abstract/10.1103/PhysRevA.97.062346).\n",
    "- Our optimization parameters are now coefficients of the basis,\n",
    "\\begin{equation}\n",
    "    u(t) = u_0 + \\sum_{j=1}^{n} c_j a_j(t)\n",
    "\\end{equation}\n",
    "- The modes $a_j(t)$ stay fixed, and the coefficients $c_j$ are optimized."
   ]
  },
  {
   "cell_type": "code",
   "execution_count": null,
   "id": "3435a7e7",
   "metadata": {},
   "outputs": [],
   "source": [
    "# First n = 5 entries in a Fourier series, including the constant term\n",
    "n = 5\n",
    "fourier_series = [cos.(π * j * (0:T-1) / T .- π/2) for j in 0:n-1]\n",
    "\n",
    "function get_controls(coefficients)\n",
    "    a(c) = sum(cⱼ * aⱼ for (cⱼ, aⱼ) in zip(c, fourier_series))\n",
    "    return stack([a(c) for c in eachrow(coefficients)], dims=1)\n",
    "end\n",
    "\n",
    "function GRAFS(coefficients)\n",
    "    controls = get_controls(coefficients)\n",
    "    return abs(1 - unitary_rollout_fidelity(U_goal, controls, timesteps, system))\n",
    "end"
   ]
  },
  {
   "cell_type": "code",
   "execution_count": null,
   "id": "569f8db4",
   "metadata": {},
   "outputs": [],
   "source": [
    "c_init = rand(system.n_drives, n)\n",
    "result_GRAFS = optimize(GRAFS, c_init, LBFGS())"
   ]
  },
  {
   "cell_type": "code",
   "execution_count": null,
   "id": "26358c08",
   "metadata": {},
   "outputs": [],
   "source": [
    "a_GRAFS = Optim.minimizer(result_GRAFS)\n",
    "println(\"The fidelity is \", 1 - unitary_rollout_fidelity(U_goal, a_GRAFS, timesteps, system))"
   ]
  },
  {
   "cell_type": "code",
   "execution_count": null,
   "id": "90e6ff29",
   "metadata": {},
   "outputs": [],
   "source": [
    "series(cumsum(timesteps), get_controls(a_GRAFS))"
   ]
  },
  {
   "cell_type": "markdown",
   "id": "30c1e30f",
   "metadata": {},
   "source": [
    "- These shapes are a lot nicer! But performance depends a lot on the expressivity and initial condition."
   ]
  },
  {
   "cell_type": "code",
   "execution_count": null,
   "id": "c5ce16d1",
   "metadata": {},
   "outputs": [],
   "source": [
    "c_init = randn(system.n_drives, n)\n",
    "result_GRAFS_2 = optimize(GRAFS, c_init, LBFGS())"
   ]
  },
  {
   "cell_type": "code",
   "execution_count": null,
   "id": "c002c75f",
   "metadata": {},
   "outputs": [],
   "source": [
    "a_GRAFS_2 = Optim.minimizer(result_GRAFS_2)\n",
    "println(\"The fidelity is \", 1 - unitary_rollout_fidelity(U_goal, a_GRAFS_2, timesteps, system))"
   ]
  },
  {
   "cell_type": "code",
   "execution_count": null,
   "id": "bac40518",
   "metadata": {},
   "outputs": [],
   "source": [
    "f = Figure()\n",
    "ax = Axis(f[1,1])\n",
    "series!(ax, cumsum(timesteps), get_controls(a_GRAFS))\n",
    "ax = Axis(f[2,1])\n",
    "series!(ax, cumsum(timesteps), get_controls(a_GRAFS_2))\n",
    "f"
   ]
  },
  {
   "cell_type": "markdown",
   "id": "b9b886bb",
   "metadata": {},
   "source": [
    "**Exercise: A filtering approach**\n",
    "\n",
    "- Pass the controls through a spectral filter: Look up Slepians and consider how to bound the bandwidth by choice of basis.\n",
    "- How might we shape the bandwidth of the controls? (Remember, we can just rely on automatic differentiation!)"
   ]
  },
  {
   "cell_type": "code",
   "execution_count": null,
   "id": "af9a679d",
   "metadata": {},
   "outputs": [],
   "source": []
  },
  {
   "cell_type": "markdown",
   "id": "578ece74",
   "metadata": {},
   "source": [
    "# IV. States in costs\n",
    "-----"
   ]
  },
  {
   "cell_type": "markdown",
   "id": "f53dca8b",
   "metadata": {},
   "source": [
    "**Exercise:**\n",
    "\n",
    "- Let's switch to a transmon, which has more than two levels and can be _leaky_.\n",
    "\n",
    "\\begin{equation}\n",
    "H(u(t)) = \\tfrac{1}{2} \\eta a^\\dagger a^\\dagger a a + u_1(t) (a + a^\\dagger) - i u_2(t) (a - a^\\dagger)\n",
    "\\end{equation}\n",
    "\n",
    "- The optimizer can exploit the higher levels!\n",
    "\n",
    "- Add a leakage penalty to a guard state. _Notice that working with states can be awkward._"
   ]
  },
  {
   "cell_type": "code",
   "execution_count": null,
   "id": "ab5a7572",
   "metadata": {},
   "outputs": [],
   "source": [
    "T = 50\n",
    "Δt = 0.2\n",
    "timesteps = fill(Δt, T)\n",
    "\n",
    "function Transmon(n)\n",
    "    a = annihilate(n)\n",
    "    x = a + a'\n",
    "    p = -im * (a - a')\n",
    "    η = 0.1\n",
    "    return QuantumSystem(1/2 * a'a'a*a, [x, p])\n",
    "end\n",
    "\n",
    "transmon_2 = Transmon(2)\n",
    "transmon_4 = Transmon(4)"
   ]
  },
  {
   "cell_type": "code",
   "execution_count": null,
   "id": "bc0729ea",
   "metadata": {},
   "outputs": [],
   "source": [
    "function TransmonGRAFS(\n",
    "    goal::AbstractPiccoloOperator, coefficients, timesteps, sys::AbstractQuantumSystem\n",
    ")\n",
    "    controls = get_controls(coefficients)\n",
    "    return abs(1 - unitary_rollout_fidelity(goal, controls, timesteps, sys))\n",
    "end"
   ]
  },
  {
   "cell_type": "markdown",
   "id": "1df54f05",
   "metadata": {},
   "source": [
    "- Quick aside: _Embedded operators_"
   ]
  },
  {
   "cell_type": "code",
   "execution_count": null,
   "id": "1945e8d4",
   "metadata": {},
   "outputs": [],
   "source": [
    "U_emb(n) = EmbeddedOperator(GATES.X, 1:2, n)"
   ]
  },
  {
   "cell_type": "code",
   "execution_count": null,
   "id": "3bbef633",
   "metadata": {},
   "outputs": [],
   "source": [
    "U_emb(4).operator"
   ]
  },
  {
   "cell_type": "code",
   "execution_count": null,
   "id": "560e9aca",
   "metadata": {},
   "outputs": [],
   "source": [
    "unembed(U_emb(4))"
   ]
  },
  {
   "cell_type": "code",
   "execution_count": null,
   "id": "9a08fd61",
   "metadata": {},
   "outputs": [],
   "source": [
    "sys2, U2 = Transmon(2), U_emb(2)\n",
    "c_init = randn(sys2.n_drives, n)\n",
    "result_GRAFS_3 = optimize(a -> TransmonGRAFS(U2, a, timesteps, sys2), c_init, LBFGS())"
   ]
  },
  {
   "cell_type": "code",
   "execution_count": null,
   "id": "7dde0458",
   "metadata": {},
   "outputs": [],
   "source": [
    "a_GRAFS_3 = get_controls(Optim.minimizer(result_GRAFS_3))\n",
    "println(\"The fidelity is \", unitary_rollout_fidelity(U2, a_GRAFS_3, timesteps, sys2))"
   ]
  },
  {
   "cell_type": "markdown",
   "id": "1640496e",
   "metadata": {},
   "source": [
    "- Quick check: What might happen now?"
   ]
  },
  {
   "cell_type": "code",
   "execution_count": null,
   "id": "82c2abc1",
   "metadata": {},
   "outputs": [],
   "source": [
    "println(\n",
    "    \"The fidelity is \", unitary_rollout_fidelity(U_emb(4), a_GRAFS_3, timesteps, Transmon(4))\n",
    ")"
   ]
  },
  {
   "cell_type": "code",
   "execution_count": null,
   "id": "fe483454",
   "metadata": {},
   "outputs": [],
   "source": [
    "# TODO: \n",
    "# - Add an L2 penalty to states that are not in the computational basis.\n",
    "# - Use a modified GRAPE cost to penalize leakage while maintaining fidelity.\n",
    "# - Study how leakage and fidelity change with the penalty.\n",
    "# - Study how the leakage changes with the anharmonicity η."
   ]
  },
  {
   "cell_type": "code",
   "execution_count": null,
   "id": "3eac4f16",
   "metadata": {},
   "outputs": [],
   "source": []
  }
 ],
 "metadata": {
  "kernelspec": {
   "display_name": "Julia 1.11.5",
   "language": "julia",
   "name": "julia-1.11"
  },
  "language_info": {
   "file_extension": ".jl",
   "mimetype": "application/julia",
   "name": "julia",
   "version": "1.11.5"
  }
 },
 "nbformat": 4,
 "nbformat_minor": 5
}
